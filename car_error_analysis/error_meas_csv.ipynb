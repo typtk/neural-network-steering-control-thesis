{
 "metadata": {
  "language_info": {
   "codemirror_mode": {
    "name": "ipython",
    "version": 3
   },
   "file_extension": ".py",
   "mimetype": "text/x-python",
   "name": "python",
   "nbconvert_exporter": "python",
   "pygments_lexer": "ipython3",
   "version": "3.8.3-final"
  },
  "orig_nbformat": 2,
  "kernelspec": {
   "name": "python3",
   "display_name": "Python 3"
  }
 },
 "nbformat": 4,
 "nbformat_minor": 2,
 "cells": [
  {
   "cell_type": "code",
   "execution_count": 64,
   "metadata": {},
   "outputs": [],
   "source": [
    "import pandas as pd\n",
    "import numpy as np\n",
    "import cv2\n",
    "import matplotlib.pyplot as plt\n",
    "\n",
    "from error_meas import error_meas"
   ]
  },
  {
   "cell_type": "code",
   "execution_count": 65,
   "metadata": {},
   "outputs": [],
   "source": [
    "meas = error_meas()\n",
    "\n",
    "images_dir = \"data/20210508_full_cw_show\"\n",
    "csv_file = images_dir + \"/data.csv\"\n",
    "df_raw = pd.read_csv(csv_file)"
   ]
  },
  {
   "cell_type": "code",
   "execution_count": 66,
   "metadata": {},
   "outputs": [],
   "source": [
    "df_mod = df_raw.copy()\n",
    "for index, row in df_mod.iterrows():\n",
    "    image_path = images_dir + \"/\" + df_mod.at[index, \"image_name\"]\n",
    "    image = cv2.imread(image_path)\n",
    "    if image is None:\n",
    "        df_mod.drop([index], inplace=True)\n",
    "df_mod.reset_index(drop=True, inplace=True)"
   ]
  },
  {
   "cell_type": "code",
   "execution_count": 67,
   "metadata": {
    "tags": []
   },
   "outputs": [
    {
     "output_type": "stream",
     "name": "stderr",
     "text": [
      "f:\\Neural_Network_Steering_Control\\source_code\\lane_helper\\error_meas.py:230: RankWarning: Polyfit may be poorly conditioned\n  self.left_fit, self.right_fit, self.left_lane_inds, self.right_lane_inds, self.visualization_data = self.sliding_window_1st_deg(self.cropped_image, self.histogram, self.leftx_base, self.rightx_base)\n"
     ]
    }
   ],
   "source": [
    "desired_angle = []\n",
    "error_pos = []\n",
    "for index, row in df_mod.iterrows():\n",
    "    image = cv2.imread(images_dir + \"/\" + df_mod.at[index, \"image_name\"])\n",
    "    angle, pos = meas.implement(image)\n",
    "    desired_angle.append(angle)\n",
    "    error_pos.append(pos)\n",
    "df_mod[\"desired_angle\"] = desired_angle\n",
    "df_mod[\"error_pos\"] = error_pos"
   ]
  },
  {
   "cell_type": "code",
   "execution_count": 68,
   "metadata": {},
   "outputs": [
    {
     "output_type": "stream",
     "name": "stdout",
     "text": [
      "20210508_163544599574.png\n163544599\n44\n"
     ]
    }
   ],
   "source": [
    "raw_filename = df_mod.at[0, \"image_name\"]\n",
    "print(raw_filename)\n",
    "filename = raw_filename.split(\"_\")[1][:-7]\n",
    "print(filename)\n",
    "filename = raw_filename.split(\"_\")[1][4:6]\n",
    "print(filename)"
   ]
  },
  {
   "cell_type": "code",
   "execution_count": 69,
   "metadata": {},
   "outputs": [],
   "source": [
    "def strTime2ms(str_time):\n",
    "    # print(str_time)\n",
    "    str_time = str_time[:-3]\n",
    "    # print(str_time)\n",
    "    cum_time = int(str_time[6:])\n",
    "    # print(cum_time)\n",
    "    cum_time = cum_time + 1000*int(str_time[4:6])\n",
    "    cum_time = cum_time + 60*1000*int(str_time[2:4])\n",
    "    cum_time = cum_time + 24*60*1000*int(str_time[0:2])\n",
    "    return cum_time\n",
    "# time = strTime2ms(raw_filename.split(\"_\")[1][:-4])\n",
    "# print(time)"
   ]
  },
  {
   "cell_type": "code",
   "execution_count": 70,
   "metadata": {},
   "outputs": [
    {
     "output_type": "stream",
     "name": "stdout",
     "text": [
      "163544599574\n25184599\n163544721016\n25184721\n122\n"
     ]
    }
   ],
   "source": [
    "### check ###\n",
    "index = 0\n",
    "now_filename = df_mod.at[index, \"image_name\"]\n",
    "next_filename = df_mod.at[index+1, \"image_name\"]\n",
    "now_time = strTime2ms(now_filename.split(\"_\")[1][:-4])\n",
    "print(now_filename.split(\"_\")[1][:-4])\n",
    "print(now_time)\n",
    "next_time = strTime2ms(next_filename.split(\"_\")[1][:-4])\n",
    "print(next_filename.split(\"_\")[1][:-4])\n",
    "print(next_time)\n",
    "# time = (next_time - int(df_mod.at[index+1, \"process_time\"])) - (now_time - int(df_mod.at[index, \"process_time\"]))\n",
    "time = next_time - now_time\n",
    "print(time)"
   ]
  },
  {
   "cell_type": "code",
   "execution_count": 71,
   "metadata": {},
   "outputs": [],
   "source": [
    "period = []\n",
    "for index, row in df_mod.iterrows():\n",
    "    if index == len(df_mod.index)-1:\n",
    "        period.append(0)\n",
    "    else:\n",
    "        now_filename = df_mod.at[index, \"image_name\"]\n",
    "        next_filename = df_mod.at[index+1, \"image_name\"]\n",
    "        now_time = strTime2ms(now_filename.split(\"_\")[1][:-4])\n",
    "        next_time = strTime2ms(next_filename.split(\"_\")[1][:-4])\n",
    "        # time = (next_time - int(df_mod.at[index+1, \"process_time\"])) - (now_time - int(df_mod.at[index, \"process_time\"]))\n",
    "        time = next_time - now_time\n",
    "        period.append(time)\n",
    "df_mod[\"period\"] = period"
   ]
  },
  {
   "cell_type": "code",
   "execution_count": 72,
   "metadata": {},
   "outputs": [],
   "source": [
    "df_mod.to_csv(images_dir + \".csv\", index = False)"
   ]
  },
  {
   "cell_type": "code",
   "execution_count": null,
   "metadata": {},
   "outputs": [],
   "source": []
  }
 ]
}